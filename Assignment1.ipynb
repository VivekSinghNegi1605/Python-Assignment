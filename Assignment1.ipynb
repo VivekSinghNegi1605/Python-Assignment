{
 "cells": [
  {
   "cell_type": "markdown",
   "id": "b2e9e47d-c74b-46ef-ba5d-7689934dafef",
   "metadata": {},
   "source": [
    "1. Declare two variables,'x' and 'y', and assign them integer values. Swap the \n",
    "values of these variables without using any temporary variable."
   ]
  },
  {
   "cell_type": "code",
   "execution_count": 1,
   "id": "6fe2f334-1a5f-40e1-9c27-8dcf4969120b",
   "metadata": {},
   "outputs": [
    {
     "name": "stdin",
     "output_type": "stream",
     "text": [
      "Enter the first number :  10\n",
      "Enter the second number :  12\n"
     ]
    },
    {
     "name": "stdout",
     "output_type": "stream",
     "text": [
      "first number is : 10 \n",
      "second number is : 12\n",
      "first number is : 12 \n",
      "second number is : 10\n"
     ]
    }
   ],
   "source": [
    "x = int(input(\"Enter the first number : \"))\n",
    "y = int(input(\"Enter the second number : \"))\n",
    "print(f\"first number is : {x} \\nsecond number is : {y}\")\n",
    "x, y = y, x\n",
    "print(f\"first number is : {x} \\nsecond number is : {y}\")"
   ]
  },
  {
   "cell_type": "markdown",
   "id": "f65d7d8e-1bcf-429a-9acf-be62129c0a94",
   "metadata": {},
   "source": [
    "2. Create a program that calculates the area of a rectangle. Take the length and width as inputs from the user and store them in variables. Calculate and display the area."
   ]
  },
  {
   "cell_type": "code",
   "execution_count": 2,
   "id": "c996583a-d487-4212-94ed-f01030ce5403",
   "metadata": {},
   "outputs": [
    {
     "name": "stdin",
     "output_type": "stream",
     "text": [
      "Enter the length of rectangle :  5\n",
      "Enter the width of rectangle :  10\n"
     ]
    },
    {
     "name": "stdout",
     "output_type": "stream",
     "text": [
      "Area of rectangle is : 30\n"
     ]
    }
   ],
   "source": [
    "l = int(input(\"Enter the length of rectangle : \"))\n",
    "b = int(input(\"Enter the width of rectangle : \"))\n",
    "ar = 2*(l+b)\n",
    "print(f\"Area of rectangle is : {ar}\")"
   ]
  },
  {
   "cell_type": "markdown",
   "id": "ebbb25a0-8471-43ec-a43a-e19929b7f7a6",
   "metadata": {},
   "source": [
    "3. Write a Python program that converts temperatures from Celsius to \n",
    "Fahrenheit. Take the temperature in Celsius as input, store it in a variable \r\n",
    "convert it to Fahrenheit, and display the result."
   ]
  },
  {
   "cell_type": "code",
   "execution_count": 3,
   "id": "2aca58bb-9c79-424d-b6f6-aa3849f4a854",
   "metadata": {},
   "outputs": [
    {
     "name": "stdin",
     "output_type": "stream",
     "text": [
      "Enter the temperature in celsius :  25\n"
     ]
    },
    {
     "name": "stdout",
     "output_type": "stream",
     "text": [
      "Temperature in fahrenheit : 77.0\n"
     ]
    }
   ],
   "source": [
    "cel = int(input(\"Enter the temperature in celsius : \"))\n",
    "fr = (cel*(9/5))+32\n",
    "print(f\"Temperature in fahrenheit : {fr}\")"
   ]
  },
  {
   "cell_type": "markdown",
   "id": "bcd0f2ae-cdd7-4535-aa09-5c358239d52c",
   "metadata": {},
   "source": [
    "1. Write a Python program that takes a string as input and prints the length of \n",
    "the string."
   ]
  },
  {
   "cell_type": "code",
   "execution_count": 4,
   "id": "54bbc930-79f6-4e81-b3f3-78880ef7a17e",
   "metadata": {},
   "outputs": [
    {
     "name": "stdin",
     "output_type": "stream",
     "text": [
      "Enter the string :  Vivek\n"
     ]
    },
    {
     "name": "stdout",
     "output_type": "stream",
     "text": [
      "Length of string is : 5\n"
     ]
    }
   ],
   "source": [
    "st = input(\"Enter the string : \")\n",
    "print(f\"Length of string is : {len(st)}\")"
   ]
  },
  {
   "cell_type": "markdown",
   "id": "d0a9e19d-78a3-4412-989b-7132658d5206",
   "metadata": {},
   "source": [
    "2. Create a program that takes a sentence from the user and counts the number of vowels (a, e, i, o, u) in the string."
   ]
  },
  {
   "cell_type": "code",
   "execution_count": 5,
   "id": "2bb52376-118e-4155-bfdd-e27c8c4ed281",
   "metadata": {},
   "outputs": [
    {
     "name": "stdin",
     "output_type": "stream",
     "text": [
      "Enter a snetence :  My name is Vivek Singh Negi\n"
     ]
    },
    {
     "name": "stdout",
     "output_type": "stream",
     "text": [
      "Number of vowels are : 8\n"
     ]
    }
   ],
   "source": [
    "st = input(\"Enter a snetence : \")\n",
    "count = 0\n",
    "for i in st:\n",
    "    if i == \"a\" or i == \"e\" or i == \"i\" or i == \"o\" or i == \"u\" or i == \"A\" or i == \"E\" or i == \"I\" or i == \"O\" or i == \"U\":\n",
    "        count += 1\n",
    "print(f\"Number of vowels are : {count}\")"
   ]
  },
  {
   "cell_type": "markdown",
   "id": "cef45f0a-3b16-4b28-82d7-a244864c0a33",
   "metadata": {},
   "source": [
    "3. Given a string, reverse the order of characters using string slicing and print the reversed string."
   ]
  },
  {
   "cell_type": "code",
   "execution_count": 6,
   "id": "df5531e4-a058-4f9f-844e-71ddb2dfda86",
   "metadata": {},
   "outputs": [
    {
     "name": "stdin",
     "output_type": "stream",
     "text": [
      "Enter the string :  Vivek\n"
     ]
    },
    {
     "name": "stdout",
     "output_type": "stream",
     "text": [
      "Reversed string is : keviV\n"
     ]
    }
   ],
   "source": [
    "st = input(\"Enter the string : \")\n",
    "st1 = st[::-1]\n",
    "print(f\"Reversed string is : {st1}\")"
   ]
  },
  {
   "cell_type": "markdown",
   "id": "d3f6b94f-16fd-4ac4-8e8c-c2fa08f6272a",
   "metadata": {},
   "source": [
    "4. Write a program that takes a string as input and checks if it is a palindrome(reads the same forwards and backwards)."
   ]
  },
  {
   "cell_type": "code",
   "execution_count": 7,
   "id": "65a43232-bb6c-40fc-9fe3-1293e1ebf5ff",
   "metadata": {},
   "outputs": [
    {
     "name": "stdin",
     "output_type": "stream",
     "text": [
      "Enter the string :  malayalam\n"
     ]
    },
    {
     "name": "stdout",
     "output_type": "stream",
     "text": [
      "Palindrome\n"
     ]
    }
   ],
   "source": [
    "st = input(\"Enter the string : \")\n",
    "i = 0\n",
    "j = len(st)-1\n",
    "while i <= j:\n",
    "    if st[i] != st[j]:\n",
    "        print(\"Not palindrome\")\n",
    "        break\n",
    "    i += 1\n",
    "    j -= 1\n",
    "else:\n",
    "    print(\"Palindrome\")"
   ]
  },
  {
   "cell_type": "markdown",
   "id": "b3c3d2ca-aaf6-42c5-898d-84a8d453245f",
   "metadata": {},
   "source": [
    "5. Create a program that takes a string as input and removes all the spaces from \n",
    "it. Print the modified string without spaces."
   ]
  },
  {
   "cell_type": "code",
   "execution_count": 8,
   "id": "17b90a8d-08bc-45fb-a5ed-dadf9dff5419",
   "metadata": {},
   "outputs": [
    {
     "name": "stdin",
     "output_type": "stream",
     "text": [
      "Enter the string :  My name is Vivek Singh Negi.\n"
     ]
    },
    {
     "name": "stdout",
     "output_type": "stream",
     "text": [
      "String without spaces is : MynameisVivekSinghNegi.\n"
     ]
    }
   ],
   "source": [
    "st = input(\"Enter the string : \")\n",
    "st1 = \"\".join(st.split())\n",
    "print(f\"String without spaces is : {st1}\")"
   ]
  },
  {
   "cell_type": "code",
   "execution_count": null,
   "id": "8838aae6-4736-4ac6-b4f8-98afccc19057",
   "metadata": {},
   "outputs": [],
   "source": []
  }
 ],
 "metadata": {
  "kernelspec": {
   "display_name": "Python 3 (ipykernel)",
   "language": "python",
   "name": "python3"
  },
  "language_info": {
   "codemirror_mode": {
    "name": "ipython",
    "version": 3
   },
   "file_extension": ".py",
   "mimetype": "text/x-python",
   "name": "python",
   "nbconvert_exporter": "python",
   "pygments_lexer": "ipython3",
   "version": "3.11.4"
  }
 },
 "nbformat": 4,
 "nbformat_minor": 5
}
